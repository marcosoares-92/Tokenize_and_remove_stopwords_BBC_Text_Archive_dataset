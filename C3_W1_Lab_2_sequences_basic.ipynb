{
    "metadata": {
        "kernelspec": {
            "name": "python3",
            "display_name": "Python 3 (ipykernel)",
            "language": "python"
        },
        "language_info": {
            "name": "python",
            "version": "3.8.10",
            "mimetype": "text/x-python",
            "codemirror_mode": {
                "name": "ipython",
                "version": 3
            },
            "pygments_lexer": "ipython3",
            "nbconvert_exporter": "python",
            "file_extension": ".py"
        },
        "colab": {
            "collapsed_sections": [],
            "name": "C3_W1_Lab_2_sequences_basic.ipynb",
            "private_outputs": true,
            "provenance": [
                {
                    "file_id": "https://github.com/https-deeplearning-ai/tensorflow-1-public/blob/adding_C3/C3/W1/ungraded_labs/C3_W1_Lab_2_sequences_basic.ipynb",
                    "timestamp": 1642431659610
                }
            ],
            "toc_visible": true
        }
    },
    "nbformat_minor": 2,
    "nbformat": 4,
    "cells": [
        {
            "cell_type": "markdown",
            "source": [
                "<a href=\"https://colab.research.google.com/github/https-deeplearning-ai/tensorflow-1-public/blob/master/C3/W1/ungraded_labs/C3_W1_Lab_2_sequences_basic.ipynb\" target=\"_parent\"><img src=\"https://colab.research.google.com/assets/colab-badge.svg\" alt=\"Open In Colab\"/></a>"
            ],
            "metadata": {
                "azdata_cell_guid": "874017bc-bb0c-448f-852c-e9b6632485dc"
            }
        },
        {
            "cell_type": "markdown",
            "source": [
                "# Ungraded Lab: Generating Sequences and Padding\n",
                "\n",
                "In this lab, you will look at converting your input sentences into a sequence of tokens. Similar to images in the previous course, you need to prepare text data with uniform size before feeding it to your model. You will see how to do these in the next sections."
            ],
            "metadata": {
                "id": "1SmE2CODfmmL",
                "azdata_cell_guid": "ad1b0079-33ba-4dd8-9b41-e5aa45283d83"
            }
        },
        {
            "cell_type": "markdown",
            "source": [
                "## Text to Sequences\n",
                "\n",
                "In the previous lab, you saw how to generate a `word_index` dictionary to generate tokens for each word in your corpus. You can use then use the result to convert each of the input sentences into a sequence of tokens. That is done using the [`texts_to_sequences()`](https://www.tensorflow.org/api_docs/python/tf/keras/preprocessing/text/Tokenizer#texts_to_sequences) method as shown below."
            ],
            "metadata": {
                "id": "JiFUJg-lmTm6",
                "azdata_cell_guid": "b0dcbf44-299b-4199-9ae8-1640b80c5a5f"
            }
        },
        {
            "cell_type": "code",
            "source": [
                "from tensorflow.keras.preprocessing.text import Tokenizer\n",
                "from tensorflow.keras.preprocessing.sequence import pad_sequences\n",
                "\n",
                "# Define your input texts\n",
                "sentences = [\n",
                "    'I love my dog',\n",
                "    'I love my cat',\n",
                "    'You love my dog!',\n",
                "    'Do you think my dog is amazing?'\n",
                "]\n",
                "\n",
                "# Initialize the Tokenizer class\n",
                "tokenizer = Tokenizer(num_words = 100, oov_token=\"<OOV>\")\n",
                "# oov: out of vocabulary - it should be a special token different from any possible word\n",
                "# to differentiate the words that are present, but were not seem when creating the word index.\n",
                "# If there is no token for words out of the vocabulary, the words would be simply removed when\n",
                "# encoding the sequence. Now, instead of removing those words, we encode them as the special\n",
                "# token oov_token.\n",
                "\n",
                "# Tokenize the input sentences\n",
                "tokenizer.fit_on_texts(sentences)\n",
                "\n",
                "# Get the word index dictionary\n",
                "word_index = tokenizer.word_index\n",
                "\n",
                "# Generate list of token sequences\n",
                "sequences = tokenizer.texts_to_sequences(sentences)\n",
                "\n",
                "# Print the result\n",
                "print(\"\\nWord Index = \" , word_index)\n",
                "print(\"\\nSequences = \" , sequences)"
            ],
            "metadata": {
                "id": "ArOPfBwyZtln",
                "azdata_cell_guid": "758ff40c-07fe-48dd-b133-24abce031058"
            },
            "outputs": [],
            "execution_count": null
        },
        {
            "cell_type": "markdown",
            "source": [
                "## Padding\n",
                "\n",
                "As mentioned in the lecture, you will usually need to pad the sequences into a uniform length because that is what your model expects. You can use the [pad_sequences](https://www.tensorflow.org/api_docs/python/tf/keras/preprocessing/sequence/pad_sequences) for that. By default, it will pad according to the length of the longest sequence. You can override this with the `maxlen` argument to define a specific length. Feel free to play with the [other arguments](https://www.tensorflow.org/api_docs/python/tf/keras/preprocessing/sequence/pad_sequences#args) shown in class and compare the result."
            ],
            "metadata": {
                "id": "z56pEkF2p8c-",
                "azdata_cell_guid": "e358a553-d769-4409-b450-b11e982e1db7"
            }
        },
        {
            "cell_type": "code",
            "source": [
                "# Pad the sequences to a uniform length\n",
                "padded = pad_sequences(sequences, padding = 'post', truncating = 'post', maxlen=5)\n",
                "# Keras requires sequences of the same lenght: same number of variables (columns); images of\n",
                "# constant dimensions; or text sequences with same length\n",
                "# maxlen: set the maximum length allowed for the sequences. Longer sequences will be truncated\n",
                "# after reaching the number of tokens specified as maxlen. If maxlen = 5, the sequences are\n",
                "# allowed to have only 5 tokens (5 words, basically).\n",
                "\n",
                "# The default for padding and truncating is in the beginning of the sentence: then, zeros are added to\n",
                "# the beginning of the smaller sequences (their left, before the first words). The number of added zeros\n",
                "# is the amount required for them to reach the maximum possible length. In turns, sequences longer than\n",
                "# the maximum possible length are cropped (truncated) in their left, i.e., their first words are removed\n",
                "# for them to reach the maximum allowed length.\n",
                "# By specifying padding = 'post', we tell keras that the zeros should be added at the end (far-right) \n",
                "# of the sequences, so only what comes after the sentence is 'modified' \n",
                "# (filled with zeros to reach the maximum length).\n",
                "\n",
                "# In its turn, when specifying truncating = 'post', we tell Keras to remove only the last (far-\n",
                "# right) words, so the beginning of the sentences longer than max length are not removed (we lost\n",
                "# the final part of the text, instead of losing its beginning).\n",
                "\n",
                "# Print the result\n",
                "print(\"\\nPadded Sequences:\")\n",
                "print(padded)"
            ],
            "metadata": {
                "id": "qljgx1eSlEse",
                "azdata_cell_guid": "14a371f3-0a6d-4733-8cfe-462953e07781"
            },
            "outputs": [],
            "execution_count": null
        },
        {
            "cell_type": "markdown",
            "source": [
                "## Out-of-vocabulary tokens\n",
                "\n",
                "Notice that you defined an `oov_token` when the `Tokenizer` was initialized earlier. This will be used when you have input words that are not found in the `word_index` dictionary. For example, you may decide to collect more text after your initial training and decide to not re-generate the `word_index`. You will see this in action in the cell below. Notice that the token `1` is inserted for words that are not found in the dictionary."
            ],
            "metadata": {
                "id": "btEb9jI0k7Ip",
                "azdata_cell_guid": "3055d364-595f-4ecd-bb6a-ffc5bee0300b"
            }
        },
        {
            "cell_type": "code",
            "source": [
                "# Try with words that the tokenizer wasn't fit to\n",
                "test_data = [\n",
                "    'i really love my dog',\n",
                "    'my dog loves my manatee'\n",
                "]\n",
                "\n",
                "# Generate the sequences\n",
                "test_seq = tokenizer.texts_to_sequences(test_data)\n",
                "\n",
                "# Print the word index dictionary\n",
                "print(\"\\nWord Index = \" , word_index)\n",
                "\n",
                "# Print the sequences with OOV\n",
                "print(\"\\nTest Sequence = \", test_seq)\n",
                "\n",
                "# Print the padded result\n",
                "padded = pad_sequences(test_seq, maxlen=10)\n",
                "print(\"\\nPadded Test Sequence: \")\n",
                "print(padded)"
            ],
            "metadata": {
                "id": "4fW1NWTok72V",
                "azdata_cell_guid": "afc1bc14-3ba2-43d4-83df-8102c6fecd67"
            },
            "outputs": [],
            "execution_count": null
        },
        {
            "cell_type": "markdown",
            "source": [
                "This concludes another introduction to text data preprocessing. So far, you've just been using dummy data. In the next exercise, you will be applying the same concepts to a real-world and much larger dataset."
            ],
            "metadata": {
                "id": "UBlQIPBqskAJ",
                "azdata_cell_guid": "9a3a1ec6-4138-4813-9e88-e6665b077a9a"
            }
        }
    ]
}