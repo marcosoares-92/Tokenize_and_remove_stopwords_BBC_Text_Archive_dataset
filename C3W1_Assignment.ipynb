{
  "cells": [
    {
      "cell_type": "markdown",
      "id": "1bed6a4c",
      "metadata": {
        "id": "1bed6a4c"
      },
      "source": [
        "# Week 1: Explore the BBC News archive\n",
        "\n",
        "Welcome! In this assignment you will be working with a variation of the [BBC News Classification Dataset](https://www.kaggle.com/c/learn-ai-bbc/overview), which contains 2225 examples of news articles with their respective categories (labels).\n",
        "\n",
        "Let's get started!"
      ]
    },
    {
      "cell_type": "code",
      "execution_count": 7,
      "id": "64ace5d7",
      "metadata": {
        "id": "64ace5d7"
      },
      "outputs": [],
      "source": [
        "import csv\n",
        "from tensorflow.keras.preprocessing.text import Tokenizer\n",
        "from tensorflow.keras.preprocessing.sequence import pad_sequences"
      ]
    },
    {
      "cell_type": "markdown",
      "id": "7dcc6e36",
      "metadata": {
        "id": "7dcc6e36"
      },
      "source": [
        "Begin by looking at the structure of the csv that contains the data:"
      ]
    },
    {
      "cell_type": "code",
      "execution_count": 8,
      "id": "531133cd",
      "metadata": {
        "id": "531133cd",
        "colab": {
          "base_uri": "https://localhost:8080/"
        },
        "outputId": "533a3535-bd2b-467c-86bf-9bc1e24f8a75"
      },
      "outputs": [
        {
          "output_type": "stream",
          "name": "stdout",
          "text": [
            "First line (header) looks like this:\n",
            "\n",
            "category,text\n",
            "\n",
            "Each data point looks like this:\n",
            "\n",
            "tech,tv future in the hands of viewers with home theatre systems  plasma high-definition tvs  and digital video recorders moving into the living room  the way people watch tv will be radically different in five years  time.  that is according to an expert panel which gathered at the annual consumer electronics show in las vegas to discuss how these new technologies will impact one of our favourite pastimes. with the us leading the trend  programmes and other content will be delivered to viewers via home networks  through cable  satellite  telecoms companies  and broadband service providers to front rooms and portable devices.  one of the most talked-about technologies of ces has been digital and personal video recorders (dvr and pvr). these set-top boxes  like the us s tivo and the uk s sky+ system  allow people to record  store  play  pause and forward wind tv programmes when they want.  essentially  the technology allows for much more personalised tv. they are also being built-in to high-definition tv sets  which are big business in japan and the us  but slower to take off in europe because of the lack of high-definition programming. not only can people forward wind through adverts  they can also forget about abiding by network and channel schedules  putting together their own a-la-carte entertainment. but some us networks and cable and satellite companies are worried about what it means for them in terms of advertising revenues as well as  brand identity  and viewer loyalty to channels. although the us leads in this technology at the moment  it is also a concern that is being raised in europe  particularly with the growing uptake of services like sky+.  what happens here today  we will see in nine months to a years  time in the uk   adam hume  the bbc broadcast s futurologist told the bbc news website. for the likes of the bbc  there are no issues of lost advertising revenue yet. it is a more pressing issue at the moment for commercial uk broadcasters  but brand loyalty is important for everyone.  we will be talking more about content brands rather than network brands   said tim hanlon  from brand communications firm starcom mediavest.  the reality is that with broadband connections  anybody can be the producer of content.  he added:  the challenge now is that it is hard to promote a programme with so much choice.   what this means  said stacey jolna  senior vice president of tv guide tv group  is that the way people find the content they want to watch has to be simplified for tv viewers. it means that networks  in us terms  or channels could take a leaf out of google s book and be the search engine of the future  instead of the scheduler to help people find what they want to watch. this kind of channel model might work for the younger ipod generation which is used to taking control of their gadgets and what they play on them. but it might not suit everyone  the panel recognised. older generations are more comfortable with familiar schedules and channel brands because they know what they are getting. they perhaps do not want so much of the choice put into their hands  mr hanlon suggested.  on the other end  you have the kids just out of diapers who are pushing buttons already - everything is possible and available to them   said mr hanlon.  ultimately  the consumer will tell the market they want.   of the 50 000 new gadgets and technologies being showcased at ces  many of them are about enhancing the tv-watching experience. high-definition tv sets are everywhere and many new models of lcd (liquid crystal display) tvs have been launched with dvr capability built into them  instead of being external boxes. one such example launched at the show is humax s 26-inch lcd tv with an 80-hour tivo dvr and dvd recorder. one of the us s biggest satellite tv companies  directtv  has even launched its own branded dvr at the show with 100-hours of recording capability  instant replay  and a search function. the set can pause and rewind tv for up to 90 hours. and microsoft chief bill gates announced in his pre-show keynote speech a partnership with tivo  called tivotogo  which means people can play recorded programmes on windows pcs and mobile devices. all these reflect the increasing trend of freeing up multimedia so that people can watch what they want  when they want.\n",
            "\n"
          ]
        }
      ],
      "source": [
        "with open(\"./bbc-text.csv\", 'r') as csvfile:\n",
        "    print(f\"First line (header) looks like this:\\n\\n{csvfile.readline()}\")\n",
        "    print(f\"Each data point looks like this:\\n\\n{csvfile.readline()}\")     "
      ]
    },
    {
      "cell_type": "markdown",
      "id": "67a2c94f",
      "metadata": {
        "id": "67a2c94f"
      },
      "source": [
        "As you can see, each data point is composed of the category of the news article followed by a comma and then the actual text of the article."
      ]
    },
    {
      "cell_type": "markdown",
      "id": "3c61761e",
      "metadata": {
        "id": "3c61761e"
      },
      "source": [
        "## Removing Stopwords\n",
        "\n",
        "One important step when working with text data is to remove the **stopwords** from it. These are the most common words in the language and they rarely provide useful information for the classification process.\n",
        "\n",
        "Complete the `remove_stopwords` below. This function should receive a string and return another string that excludes all of the stopwords provided."
      ]
    },
    {
      "cell_type": "code",
      "execution_count": 54,
      "id": "3336c693",
      "metadata": {
        "id": "3336c693"
      },
      "outputs": [],
      "source": [
        "# GRADED FUNCTION: remove_stopwords\n",
        "def remove_stopwords(sentence):\n",
        "    # List of stopwords\n",
        "    stopwords = [\"a\", \"about\", \"above\", \"after\", \"again\", \"against\", \"all\", \"am\", \"an\", \"and\", \"any\", \"are\", \"as\", \"at\", \"be\", \"because\", \"been\", \"before\", \"being\", \"below\", \"between\", \"both\", \"but\", \"by\", \"could\", \"did\", \"do\", \"does\", \"doing\", \"down\", \"during\", \"each\", \"few\", \"for\", \"from\", \"further\", \"had\", \"has\", \"have\", \"having\", \"he\", \"he'd\", \"he'll\", \"he's\", \"her\", \"here\", \"here's\", \"hers\", \"herself\", \"him\", \"himself\", \"his\", \"how\", \"how's\", \"i\", \"i'd\", \"i'll\", \"i'm\", \"i've\", \"if\", \"in\", \"into\", \"is\", \"it\", \"it's\", \"its\", \"itself\", \"let's\", \"me\", \"more\", \"most\", \"my\", \"myself\", \"nor\", \"of\", \"on\", \"once\", \"only\", \"or\", \"other\", \"ought\", \"our\", \"ours\", \"ourselves\", \"out\", \"over\", \"own\", \"same\", \"she\", \"she'd\", \"she'll\", \"she's\", \"should\", \"so\", \"some\", \"such\", \"than\", \"that\", \"that's\", \"the\", \"their\", \"theirs\", \"them\", \"themselves\", \"then\", \"there\", \"there's\", \"these\", \"they\", \"they'd\", \"they'll\", \"they're\", \"they've\", \"this\", \"those\", \"through\", \"to\", \"too\", \"under\", \"until\", \"up\", \"very\", \"was\", \"we\", \"we'd\", \"we'll\", \"we're\", \"we've\", \"were\", \"what\", \"what's\", \"when\", \"when's\", \"where\", \"where's\", \"which\", \"while\", \"who\", \"who's\", \"whom\", \"why\", \"why's\", \"with\", \"would\", \"you\", \"you'd\", \"you'll\", \"you're\", \"you've\", \"your\", \"yours\", \"yourself\", \"yourselves\" ]\n",
        "    \n",
        "    # Sentence converted to lowercase-only\n",
        "    sentence = sentence.lower()\n",
        "\n",
        "    # Sentence is a string formed by several words separated by blank spaces.\n",
        "    # We may apply the string split method to separate it into several substrings (the words).\n",
        "    # The syntax is: string.split(separator, maxsplit)\n",
        "    # Warning, the arguments names should not be declared. They are defined by the input order.\n",
        "    # Examples: x = txt.split(\"#\", 1), \n",
        "    # x = txt.split(\", \")\n",
        "    # https://www.w3schools.com/python/ref_string_split.asp?msclkid=6794d039c56111ec9f28ce07f968e96a\n",
        "    list_of_words = sentence.split(' ')\n",
        "\n",
        "    # Create a support list to store the words that are not defined as 'stopwords':\n",
        "    support_list = []\n",
        "\n",
        "    # Loop through all items (elements named 'word') in the list_of_words\n",
        "    for word in list_of_words:\n",
        "        \n",
        "        # check if sentence[i] is not in the list stopwords:\n",
        "        if word not in stopwords:\n",
        "            # If it is not, append it into the support list:\n",
        "            \n",
        "            support_list.append(word)\n",
        "    \n",
        "    # Now, support_list contains only the words from 'sentence' that are not classified as 'stopwords'.\n",
        "    # Let's recreate the sentence without the 'stopwords':\n",
        "    \n",
        "    # The first element from the new sentence is the first word from support_list:\n",
        "    i = 0\n",
        "    sentence = '' # Convert to empty string\n",
        "\n",
        "    # Now, loop through all other elements from support_list (starting from index 1, since index 0 \n",
        "    # was already used):\n",
        "\n",
        "    for i in range (len(support_list)):\n",
        "      #loops from i = 0, index of the 2nd word, to i = len(support_list) - 1, index of the last word:\n",
        "      # Concatenate the string sentence to the word of index [i] and concatenate a blank space after them:\n",
        "      sentence = sentence + support_list[i] + \" \"\n",
        "    \n",
        "    # Apply rtrip method to remove possible blank spaces in the beginning or at the end of the sentence\n",
        "    # rstrip is the Trim function. Syntax: string.rstrip(characters)\n",
        "    # characters\tOptional. A set of characters to remove as trailing characters.\n",
        "    # The rstrip() method removes any trailing characters \n",
        "    # (characters at the end a string), space is the default trailing character to remove.\n",
        "    # example: txt = \"banana,,,,,ssqqqww.....\", \n",
        "    # Remove the trailing characters if they are commas, s, q, or w: \n",
        "    # x = txt.rstrip(\",.qsw\")\n",
        "    # https://www.w3schools.com/python/ref_string_rstrip.asp?msclkid=ee2d05c3c56811ecb1d2189d9f803f65\n",
        "    \n",
        "    sentence = sentence.rstrip() # space is the default, when no parameter is provided.\n",
        "\n",
        "\n",
        "    ### END CODE HERE\n",
        "    return sentence"
      ]
    },
    {
      "cell_type": "code",
      "execution_count": 55,
      "id": "857d2bce",
      "metadata": {
        "id": "857d2bce",
        "colab": {
          "base_uri": "https://localhost:8080/",
          "height": 35
        },
        "outputId": "a7787c7d-05c0-4874-b54c-5e0934cb73a3"
      },
      "outputs": [
        {
          "output_type": "execute_result",
          "data": {
            "text/plain": [
              "'go store get snack'"
            ],
            "application/vnd.google.colaboratory.intrinsic+json": {
              "type": "string"
            }
          },
          "metadata": {},
          "execution_count": 55
        }
      ],
      "source": [
        "# Test your function\n",
        "remove_stopwords(\"I am about to go to the store and get any snack\")"
      ]
    },
    {
      "cell_type": "markdown",
      "id": "69317cd6",
      "metadata": {
        "id": "69317cd6"
      },
      "source": [
        "***Expected Output:***\n",
        "```\n",
        "'go store get snack'\n",
        "\n",
        "```"
      ]
    },
    {
      "cell_type": "markdown",
      "id": "e8c5c829",
      "metadata": {
        "id": "e8c5c829"
      },
      "source": [
        "## Reading the raw data\n",
        "\n",
        "Now you need to read the data from the csv file. To do so, complete the `parse_data_from_file` function.\n",
        "\n",
        "A couple of things to note:\n",
        "- You should omit the first line as it contains the headers and not data points.\n",
        "- There is no need to save the data points as numpy arrays, regular lists is fine.\n",
        "- To read from csv files use [`csv.reader`](https://docs.python.org/3/library/csv.html#csv.reader) by passing the appropriate arguments.\n",
        "- `csv.reader` returns an iterable that returns each row in every iteration. So the label can be accessed via row[0] and the text via row[1].\n",
        "- Use the `remove_stopwords` function in each sentence."
      ]
    },
    {
      "cell_type": "code",
      "execution_count": 56,
      "id": "c9ae1cd1",
      "metadata": {
        "id": "c9ae1cd1"
      },
      "outputs": [],
      "source": [
        "def parse_data_from_file(filename):\n",
        "    \n",
        "    import csv\n",
        "    import numpy as np\n",
        "    \n",
        "    sentences = []\n",
        "    labels = []\n",
        "    \n",
        "    with open(filename, 'r') as csvfile:\n",
        "        ### START CODE HERE\n",
        "        csv_reader = csv.reader(csvfile, delimiter = ',')\n",
        "\n",
        "        for analyzed_row in csv_reader:\n",
        "          \n",
        "          # Iterate through all the rows, named 'analyzed_row' from csv_reader\n",
        "          # object:\n",
        "          row_label = analyzed_row[0] # first row value\n",
        "          row_sentence = analyzed_row[1] # element with index 1.\n",
        "          # Here, we should not apply the slicing analyzed_row[:1] because it\n",
        "          # will generate a list of a single element instead of a string. And we\n",
        "          # must obtain a string to apply the split method.\n",
        "          \n",
        "          # Now, call function remove_stopwords for removing those words from\n",
        "          # row_sentence:\n",
        "          row_sentence = remove_stopwords(row_sentence)\n",
        "\n",
        "          # Now append these values to the list:\n",
        "          labels.append(row_label)\n",
        "          sentences.append(row_sentence)\n",
        "\n",
        "        # By now, the lists contain all rows, including the first one.\n",
        "        # We must remove elements of index 0 (header).\n",
        "        # Using del keyword\n",
        "        # To remove an element from the list, you can use the del keyword \n",
        "        # followed by a list. You have to pass the index of the element to the \n",
        "        # list. The index starts at 0. Syntax:\n",
        "        # del list[index]\n",
        "        # https://www.guru99.com/python-list-remove-clear-pop-del.html#:~:text=In%20Python%2C%20there%20are%20many%20methods%20available%20on,from%20the%20list%20based%20on%20the%20index%20given.\n",
        "\n",
        "        # Remove elements of index 0 from lists labels and sentences with del function:\n",
        "        del labels[0]\n",
        "        del sentences[0]\n",
        "        # deletes elements with index 0 (headers)\n",
        "        \n",
        "        ### END CODE HERE\n",
        "    return sentences, labels"
      ]
    },
    {
      "cell_type": "code",
      "execution_count": 57,
      "id": "6a4bb82b",
      "metadata": {
        "id": "6a4bb82b",
        "colab": {
          "base_uri": "https://localhost:8080/"
        },
        "outputId": "8c6acd59-3866-4c41-c675-dbaa54aa80cd"
      },
      "outputs": [
        {
          "output_type": "stream",
          "name": "stdout",
          "text": [
            "1st label = tech\n",
            "1st sentence = tv future hands viewers home theatre systems  plasma high-definition tvs  digital video recorders moving living room  way people watch tv will radically different five years  time.  according expert panel gathered annual consumer electronics show las vegas discuss new technologies will impact one favourite pastimes. us leading trend  programmes content will delivered viewers via home networks  cable  satellite  telecoms companies  broadband service providers front rooms portable devices.  one talked-about technologies ces digital personal video recorders (dvr pvr). set-top boxes  like us s tivo uk s sky+ system  allow people record  store  play  pause forward wind tv programmes want.  essentially  technology allows much personalised tv. also built-in high-definition tv sets  big business japan us  slower take off europe lack high-definition programming. not can people forward wind adverts  can also forget abiding network channel schedules  putting together a-la-carte entertainment. us networks cable satellite companies worried means terms advertising revenues well  brand identity  viewer loyalty channels. although us leads technology moment  also concern raised europe  particularly growing uptake services like sky+.  happens today  will see nine months years  time uk   adam hume  bbc broadcast s futurologist told bbc news website. likes bbc  no issues lost advertising revenue yet. pressing issue moment commercial uk broadcasters  brand loyalty important everyone.  will talking content brands rather network brands   said tim hanlon  brand communications firm starcom mediavest.  reality broadband connections  anybody can producer content.  added:  challenge now hard promote programme much choice.   means  said stacey jolna  senior vice president tv guide tv group  way people find content want watch simplified tv viewers. means networks  us terms  channels take leaf google s book search engine future  instead scheduler help people find want watch. kind channel model might work younger ipod generation used taking control gadgets play them. might not suit everyone  panel recognised. older generations comfortable familiar schedules channel brands know getting. perhaps not want much choice put hands  mr hanlon suggested.  end  kids just diapers pushing buttons already - everything possible available   said mr hanlon.  ultimately  consumer will tell market want.   50 000 new gadgets technologies showcased ces  many enhancing tv-watching experience. high-definition tv sets everywhere many new models lcd (liquid crystal display) tvs launched dvr capability built  instead external boxes. one example launched show humax s 26-inch lcd tv 80-hour tivo dvr dvd recorder. one us s biggest satellite tv companies  directtv  even launched branded dvr show 100-hours recording capability  instant replay  search function. set can pause rewind tv 90 hours. microsoft chief bill gates announced pre-show keynote speech partnership tivo  called tivotogo  means people can play recorded programmes windows pcs mobile devices. reflect increasing trend freeing multimedia people can watch want  want.\n",
            "There are 2225 sentences in the dataset.\n",
            "\n",
            "First sentence has 436 words (after removing stopwords).\n",
            "\n",
            "There are 2225 labels in the dataset.\n",
            "\n",
            "The first 5 labels are ['tech', 'business', 'sport', 'sport', 'entertainment']\n"
          ]
        }
      ],
      "source": [
        "# Test your function\n",
        "sentences, labels = parse_data_from_file(\"./bbc-text.csv\")\n",
        "\n",
        "print(f\"There are {len(sentences)} sentences in the dataset.\\n\")\n",
        "print(f\"First sentence has {len(sentences[0].split())} words (after removing stopwords).\\n\")\n",
        "print(f\"There are {len(labels)} labels in the dataset.\\n\")\n",
        "print(f\"The first 5 labels are {labels[:5]}\")"
      ]
    },
    {
      "cell_type": "markdown",
      "id": "1e18ed03",
      "metadata": {
        "id": "1e18ed03"
      },
      "source": [
        "***Expected Output:***\n",
        "```\n",
        "There are 2225 sentences in the dataset.\n",
        "\n",
        "First sentence has 436 words (after removing stopwords).\n",
        "\n",
        "There are 2225 labels in the dataset.\n",
        "\n",
        "The first 5 labels are ['tech', 'business', 'sport', 'sport', 'entertainment']\n",
        "\n",
        "```"
      ]
    },
    {
      "cell_type": "markdown",
      "id": "899468d5",
      "metadata": {
        "id": "899468d5"
      },
      "source": [
        "## Using the Tokenizer\n",
        "\n",
        "Now it is time to tokenize the sentences of the dataset. \n",
        "\n",
        "Complete the `fit_tokenizer` below. \n",
        "\n",
        "This function should receive the list of sentences as input and return a [Tokenizer](https://www.tensorflow.org/api_docs/python/tf/keras/preprocessing/text/Tokenizer) that has been fitted to those sentences. You should also define the \"Out of Vocabulary\" token as `<OOV>`."
      ]
    },
    {
      "cell_type": "code",
      "execution_count": 58,
      "id": "7becc50a",
      "metadata": {
        "id": "7becc50a"
      },
      "outputs": [],
      "source": [
        "def fit_tokenizer(sentences):\n",
        "    \n",
        "    from tensorflow.keras.preprocessing.text import Tokenizer\n",
        "    ### START CODE HERE\n",
        "    # Instantiate the Tokenizer class by passing in the oov_token argument\n",
        "    # We will not set a maximum num_words here.\n",
        "    tokenizer = Tokenizer(oov_token=\"<OOV>\")\n",
        "    # oov: out of vocabulary - it should be a special token different from any possible word\n",
        "    # to differentiate the words that are present, but were not seem when creating the word index.\n",
        "    # If there is no token for words out of the vocabulary, the words would be simply removed when\n",
        "    # encoding the sequence. Now, instead of removing those words, we encode them as the special\n",
        "    # token oov_token.\n",
        "\n",
        "    # Fit on the sentences\n",
        "    # Tokenize the input sentences\n",
        "    tokenizer.fit_on_texts(sentences)\n",
        "    \n",
        "    ### END CODE HERE\n",
        "    return tokenizer"
      ]
    },
    {
      "cell_type": "code",
      "execution_count": 59,
      "id": "b9064ab4",
      "metadata": {
        "id": "b9064ab4",
        "colab": {
          "base_uri": "https://localhost:8080/"
        },
        "outputId": "07309d06-dd4b-49a2-c63c-76004899285c"
      },
      "outputs": [
        {
          "output_type": "stream",
          "name": "stdout",
          "text": [
            "Vocabulary contains 29714 words\n",
            "\n",
            "<OOV> token included in vocabulary\n"
          ]
        }
      ],
      "source": [
        "tokenizer = fit_tokenizer(sentences)\n",
        "word_index = tokenizer.word_index\n",
        "\n",
        "print(f\"Vocabulary contains {len(word_index)} words\\n\")\n",
        "print(\"<OOV> token included in vocabulary\" if \"<OOV>\" in word_index else \"<OOV> token NOT included in vocabulary\")"
      ]
    },
    {
      "cell_type": "markdown",
      "id": "75a00cb3",
      "metadata": {
        "id": "75a00cb3"
      },
      "source": [
        "***Expected Output:***\n",
        "```\n",
        "Vocabulary contains 29714 words\n",
        "\n",
        "<OOV> token included in vocabulary\n",
        "\n",
        "```"
      ]
    },
    {
      "cell_type": "code",
      "execution_count": 60,
      "id": "eb9ab613",
      "metadata": {
        "id": "eb9ab613"
      },
      "outputs": [],
      "source": [
        "def get_padded_sequences(tokenizer, sentences):\n",
        "    \n",
        "    ### START CODE HERE\n",
        "    # Convert sentences to sequences\n",
        "    sequences = tokenizer.texts_to_sequences(sentences)\n",
        "    \n",
        "    # Pad the sequences using the post padding strategy\n",
        "    # We will not set a maximum length here, so that user can do it.\n",
        "    padded_sequences = pad_sequences(sequences, padding = 'post', truncating = 'post')\n",
        "    # Keras requires sequences of the same lenght: same number of variables (columns); images of\n",
        "    # constant dimensions; or text sequences with same length\n",
        "    # maxlen: set the maximum length allowed for the sequences. Longer sequences will be truncated\n",
        "    # after reaching the number of tokens specified as maxlen. If maxlen = 5, the sequences are\n",
        "    # allowed to have only 5 tokens (5 words, basically).\n",
        "\n",
        "    # The default for padding and truncating is in the beginning of the sentence: then, zeros are added to\n",
        "    # the beginning of the smaller sequences (their left, before the first words). The number of added zeros\n",
        "    # is the amount required for them to reach the maximum possible length. In turns, sequences longer than\n",
        "    # the maximum possible length are cropped (truncated) in their left, i.e., their first words are removed\n",
        "    # for them to reach the maximum allowed length.\n",
        "    # By specifying padding = 'post', we tell keras that the zeros should be added at the end (far-right) \n",
        "    # of the sequences, so only what comes after the sentence is 'modified' \n",
        "    # (filled with zeros to reach the maximum length).\n",
        "\n",
        "    # In its turn, when specifying truncating = 'post', we tell Keras to remove only the last (far-\n",
        "    # right) words, so the beginning of the sentences longer than max length are not removed (we lost\n",
        "    # the final part of the text, instead of losing its beginning).\n",
        "\n",
        "    ### END CODE HERE\n",
        "    \n",
        "    return padded_sequences"
      ]
    },
    {
      "cell_type": "code",
      "execution_count": 61,
      "id": "4d966404",
      "metadata": {
        "id": "4d966404",
        "colab": {
          "base_uri": "https://localhost:8080/"
        },
        "outputId": "c418240c-1ac1-4fa3-b635-6836db26795d"
      },
      "outputs": [
        {
          "output_type": "stream",
          "name": "stdout",
          "text": [
            "First padded sequence looks like this: \n",
            "\n",
            "[  96  176 1157 ...    0    0    0]\n",
            "\n",
            "Numpy array of all sequences has shape: (2225, 2438)\n",
            "\n",
            "This means there are 2225 sequences in total and each one has a size of 2438\n"
          ]
        }
      ],
      "source": [
        "padded_sequences = get_padded_sequences(tokenizer, sentences)\n",
        "print(f\"First padded sequence looks like this: \\n\\n{padded_sequences[0]}\\n\")\n",
        "print(f\"Numpy array of all sequences has shape: {padded_sequences.shape}\\n\")\n",
        "print(f\"This means there are {padded_sequences.shape[0]} sequences in total and each one has a size of {padded_sequences.shape[1]}\")"
      ]
    },
    {
      "cell_type": "markdown",
      "id": "6caae3d6",
      "metadata": {
        "id": "6caae3d6"
      },
      "source": [
        "***Expected Output:***\n",
        "```\n",
        "First padded sequence looks like this: \n",
        "\n",
        "[  96  176 1157 ...    0    0    0]\n",
        "\n",
        "Numpy array of all sequences has shape: (2225, 2438)\n",
        "\n",
        "This means there are 2225 sequences in total and each one has a size of 2438\n",
        "\n",
        "```"
      ]
    },
    {
      "cell_type": "code",
      "execution_count": 64,
      "id": "5b9b1225",
      "metadata": {
        "id": "5b9b1225"
      },
      "outputs": [],
      "source": [
        "def tokenize_labels(labels):\n",
        "    ### START CODE HERE\n",
        "    from tensorflow.keras.preprocessing.text import Tokenizer\n",
        "\n",
        "    # Instantiate the Tokenizer class\n",
        "    # No need to pass additional arguments since you will be tokenizing the labels\n",
        "    # So, do not pass the oov token.\n",
        "    label_tokenizer = Tokenizer()\n",
        "    # oov: out of vocabulary\n",
        "    \n",
        "    # Fit the tokenizer to the labels\n",
        "    label_tokenizer.fit_on_texts(labels)\n",
        "    \n",
        "    # Save the word index\n",
        "    label_word_index = label_tokenizer.word_index\n",
        "    \n",
        "    # Save the sequences\n",
        "    label_sequences = label_tokenizer.texts_to_sequences(labels)\n",
        "\n",
        "    ### END CODE HERE\n",
        "    \n",
        "    return label_sequences, label_word_index"
      ]
    },
    {
      "cell_type": "code",
      "execution_count": 65,
      "id": "493fb321",
      "metadata": {
        "id": "493fb321",
        "colab": {
          "base_uri": "https://localhost:8080/"
        },
        "outputId": "6c4fab72-555e-4a59-de29-53279735502e"
      },
      "outputs": [
        {
          "output_type": "stream",
          "name": "stdout",
          "text": [
            "Vocabulary of labels looks like this {'sport': 1, 'business': 2, 'politics': 3, 'tech': 4, 'entertainment': 5}\n",
            "\n",
            "First ten sequences [[4], [2], [1], [1], [5], [3], [3], [1], [1], [5]]\n",
            "\n"
          ]
        }
      ],
      "source": [
        "label_sequences, label_word_index = tokenize_labels(labels)\n",
        "print(f\"Vocabulary of labels looks like this {label_word_index}\\n\")\n",
        "print(f\"First ten sequences {label_sequences[:10]}\\n\")"
      ]
    },
    {
      "cell_type": "markdown",
      "id": "pressed-surge",
      "metadata": {
        "id": "pressed-surge"
      },
      "source": [
        "***Expected Output:***\n",
        "```\n",
        "Vocabulary of labels looks like this {'sport': 1, 'business': 2, 'politics': 3, 'tech': 4, 'entertainment': 5}\n",
        "\n",
        "First ten sequences [[4], [2], [1], [1], [5], [3], [3], [1], [1], [5]]\n",
        "\n",
        "```"
      ]
    },
    {
      "cell_type": "markdown",
      "id": "1a4982ac",
      "metadata": {
        "id": "1a4982ac"
      },
      "source": [
        "**Congratulations on finishing this week's assignment!**\n",
        "\n",
        "You have successfully implemented functions to process various text data processing ranging from pre-processing, reading from raw files and tokenizing text.\n",
        "\n",
        "**Keep it up!**"
      ]
    }
  ],
  "metadata": {
    "kernelspec": {
      "display_name": "Python 3",
      "language": "python",
      "name": "python3"
    },
    "language_info": {
      "codemirror_mode": {
        "name": "ipython",
        "version": 3
      },
      "file_extension": ".py",
      "mimetype": "text/x-python",
      "name": "python",
      "nbconvert_exporter": "python",
      "pygments_lexer": "ipython3",
      "version": "3.8.8"
    },
    "colab": {
      "name": "C3W1_Assignment.ipynb",
      "provenance": [],
      "collapsed_sections": []
    }
  },
  "nbformat": 4,
  "nbformat_minor": 5
}